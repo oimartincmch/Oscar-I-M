{
 "cells": [
  {
   "cell_type": "markdown",
   "metadata": {},
   "source": [
    "# COGS 18 FINAL PROJECT: BigChat\n",
    "## Oscar Isaac Martinez\n",
    "BigChat is a chatbot that takes in 5 different function inputs (name, state, age, project, and end_chat). The interactive chatbot is responsive to my name, Prof. Ellis, and any TA or IA. From there, you will be asked what state you are from, and the chatbot will respond with the nickname for the respective state. Next, you will be asked your age. If 21 as I am, the chatbot will respond \"Cheers!\". Otherwise, it will resond \"Nice!\" and proceed to ask if you have started your COGS 18 project. If you have, it will congratulate you and loop back to the first question. If you have not finished your project, it will ask if you have started. If you have, BigChat will congratulate you. If you have not, BigChat will urge you to get started, then loop back to the first question. At this point, if you are done using BigChat, you can type 'quit' to end the chat, and you will receive a farewell from BigChat. I hope you enjoy this project, and I want to thank Professor Ellis and all the TAs for everything this quarter. \n"
   ]
  },
  {
   "cell_type": "code",
   "execution_count": 1,
   "metadata": {},
   "outputs": [],
   "source": [
    "from my_module.functions import * "
   ]
  },
  {
   "cell_type": "code",
   "execution_count": null,
   "metadata": {},
   "outputs": [
    {
     "name": "stdout",
     "output_type": "stream",
     "text": [
      "INPUT :\thi\n",
      "\n",
      "Welcome to BigChat!:\n",
      "What's your name?quit\n",
      "\tNot Authorized to Use BigChat!\n"
     ]
    }
   ],
   "source": [
    "big_chat()"
   ]
  },
  {
   "cell_type": "code",
   "execution_count": null,
   "metadata": {},
   "outputs": [],
   "source": []
  }
 ],
 "metadata": {
  "kernelspec": {
   "display_name": "Python 3",
   "language": "python",
   "name": "python3"
  },
  "language_info": {
   "codemirror_mode": {
    "name": "ipython",
    "version": 3
   },
   "file_extension": ".py",
   "mimetype": "text/x-python",
   "name": "python",
   "nbconvert_exporter": "python",
   "pygments_lexer": "ipython3",
   "version": "3.6.7"
  }
 },
 "nbformat": 4,
 "nbformat_minor": 2
}
